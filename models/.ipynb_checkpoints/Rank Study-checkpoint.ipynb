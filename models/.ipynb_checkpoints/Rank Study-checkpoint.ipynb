{
 "cells": [
  {
   "cell_type": "code",
   "execution_count": 2,
   "metadata": {},
   "outputs": [],
   "source": [
    "import pandas as pd\n",
    "import sys\n",
    "import numpy as np\n",
    "from scipy.misc import imshow, imresize\n",
    "import imageio\n",
    "import os\n",
    "\n",
    "from sklearn.model_selection import cross_val_score\n",
    "from sklearn.model_selection import KFold\n",
    "from sklearn.metrics import mean_squared_error\n",
    "from sklearn.model_selection import GridSearchCV\n",
    "from sklearn.model_selection import train_test_split\n",
    "from sklearn.metrics import r2_score\n",
    "from scipy.stats import pearsonr\n",
    "import scipy.stats as ss\n",
    "\n",
    "%matplotlib inline\n",
    "\n",
    "import matplotlib\n",
    "import numpy as np\n",
    "import matplotlib.pyplot as plt\n"
   ]
  },
  {
   "cell_type": "code",
   "execution_count": 51,
   "metadata": {},
   "outputs": [],
   "source": [
    "y_pred = np.load(\"/atlas/u/esheehan/wikipedia_project/dataset/GUF_dataset/output/baselineDoc2VecModelOut/pred_test/pred_UGA_GHA.npy\")\n",
    "y_true = np.load(\"/atlas/u/esheehan/wikipedia_project/dataset/GUF_dataset/output/baselineDoc2VecModelOut/pred_test/test_UGA_GHA.npy\")"
   ]
  },
  {
   "cell_type": "code",
   "execution_count": 52,
   "metadata": {},
   "outputs": [],
   "source": [
    "pred_rank = ss.rankdata(y_pred)\n",
    "true_rank = ss.rankdata(y_true)"
   ]
  },
  {
   "cell_type": "code",
   "execution_count": 54,
   "metadata": {},
   "outputs": [
    {
     "name": "stdout",
     "output_type": "stream",
     "text": [
      "297.2713936430318\n"
     ]
    },
    {
     "data": {
      "image/png": "[encoded data removed]",
      "text/plain": [
       "<Figure size 432x288 with 1 Axes>"
      ]
     },
     "metadata": {
      "needs_background": "light"
     },
     "output_type": "display_data"
    }
   ],
   "source": [
    "fig, ax = plt.subplots()\n",
    "# x = range(len(pred_rank))\n",
    "# ax.plot(x, pred_rank - true_rank, '-b', label='pred')\n",
    "ax.hist(pred_rank - true_rank, bins=50, label='Difference in Rank')\n",
    "meanDiff = np.mean(abs(pred_rank - true_rank))\n",
    "plt.title(\"Mean Abs Diff: {}\".format(meanDiff))\n",
    "leg = ax.legend();\n",
    "plt.xlabel(\"Difference\")\n",
    "plt.ylabel(\"Count\")\n",
    "\n",
    "print(meanDiff)\n",
    "# plt.savefig('TrainUgandaTestGhana.png')\n"
   ]
  },
  {
   "cell_type": "code",
   "execution_count": 55,
   "metadata": {},
   "outputs": [
    {
     "name": "stdout",
     "output_type": "stream",
     "text": [
      "Total of 1227 examples\n"
     ]
    }
   ],
   "source": [
    "pred_rank = ss.rankdata(y_pred)\n",
    "true_rank = ss.rankdata(y_true)\n",
    "\n",
    "pred_rank_class = []\n",
    "true_rank_class = []\n",
    "\n",
    "print(\"Total of {} examples\".format(len(pred_rank)))\n",
    "for i in range(len(pred_rank)):\n",
    "    if pred_rank[i] < len(pred_rank)/ 4.:\n",
    "        pred_rank_class.append(0)\n",
    "    elif pred_rank[i] >= len(pred_rank)/ 4. and pred_rank[i] < 2. * len(pred_rank)/ 4.:\n",
    "        pred_rank_class.append(1)\n",
    "    elif pred_rank[i] >= 2. * len(pred_rank)/ 4. and pred_rank[i] < 3. * len(pred_rank)/ 4.:\n",
    "        pred_rank_class.append(2)\n",
    "    else:\n",
    "        pred_rank_class.append(3)\n",
    "\n",
    "for i in range(len(true_rank)):\n",
    "    if true_rank[i] < len(true_rank)/ 4.:\n",
    "        true_rank_class.append(0)\n",
    "    elif true_rank[i] >= len(pred_rank)/ 4. and true_rank[i] < 2. * len(true_rank)/ 4.:\n",
    "        true_rank_class.append(1)\n",
    "    elif true_rank[i] >= 2. * len(true_rank)/ 4. and true_rank[i] < 3. * len(true_rank)/ 4.:\n",
    "        true_rank_class.append(2)\n",
    "    else:\n",
    "        true_rank_class.append(3)"
   ]
  },
  {
   "cell_type": "code",
   "execution_count": 58,
   "metadata": {},
   "outputs": [
    {
     "data": {
      "image/png": "[encoded data removed]",
      "text/plain": [
       "<Figure size 432x288 with 1 Axes>"
      ]
     },
     "metadata": {
      "needs_background": "light"
     },
     "output_type": "display_data"
    }
   ],
   "source": [
    "\n",
    "fig, ax = plt.subplots()\n",
    "# x = range(len(pred_rank))\n",
    "# ax.plot(x, pred_rank - true_rank, '-b', label='pred')\n",
    "ax.hist(np.array(pred_rank_class) - np.array(true_rank_class), bins=5, label='Classed diff of rank')\n",
    "plt.title(\"Classed diff of rank\")\n",
    "plt.xlabel(\"Class Diff\")\n",
    "plt.ylabel(\"Count\")\n",
    "leg = ax.legend();\n",
    "# plt.savefig('TrainUgandaTestGhanaBucket.png')"
   ]
  },
  {
   "cell_type": "code",
   "execution_count": null,
   "metadata": {},
   "outputs": [],
   "source": []
  }
 ],
 "metadata": {
  "kernelspec": {
   "display_name": "Python 3",
   "language": "python",
   "name": "python3"
  },
  "language_info": {
   "codemirror_mode": {
    "name": "ipython",
    "version": 3
   },
   "file_extension": ".py",
   "mimetype": "text/x-python",
   "name": "python",
   "nbconvert_exporter": "python",
   "pygments_lexer": "ipython3",
   "version": "3.6.6"
  }
 },
 "nbformat": 4,
 "nbformat_minor": 2
}
